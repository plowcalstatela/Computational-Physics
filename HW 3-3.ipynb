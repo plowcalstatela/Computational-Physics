{
 "cells": [
  {
   "cell_type": "markdown",
   "metadata": {},
   "source": [
    "## HW 3\n",
    "\n",
    "No fear questions\n",
    "\n",
    "3.1.1 and 3.1.2; 3.3.1, 3.3.2, 3.3.3 and 3.3.4\n",
    "\n"
   ]
  },
  {
   "cell_type": "code",
   "execution_count": 1,
   "metadata": {},
   "outputs": [
    {
     "data": {
      "text/plain": [
       "77.0"
      ]
     },
     "execution_count": 1,
     "metadata": {},
     "output_type": "execute_result"
    }
   ],
   "source": [
    "# Tues reading 29 - 40\n",
    "cels = 25\n",
    "fahr = cels * 1.8 + 32\n",
    "fahr"
   ]
  },
  {
   "cell_type": "code",
   "execution_count": 2,
   "metadata": {},
   "outputs": [
    {
     "data": {
      "text/plain": [
       "89.6"
      ]
     },
     "execution_count": 2,
     "metadata": {},
     "output_type": "execute_result"
    }
   ],
   "source": [
    "32 * 1.8 + 32.0"
   ]
  },
  {
   "cell_type": "code",
   "execution_count": 3,
   "metadata": {},
   "outputs": [],
   "source": [
    "def convert(fahr):\n",
    "    cels = fahr * 1.8 + 32.0\n",
    "    return cels"
   ]
  },
  {
   "cell_type": "code",
   "execution_count": 4,
   "metadata": {},
   "outputs": [
    {
     "data": {
      "text/plain": [
       "<function __main__.convert(fahr)>"
      ]
     },
     "execution_count": 4,
     "metadata": {},
     "output_type": "execute_result"
    }
   ],
   "source": [
    "convert"
   ]
  },
  {
   "cell_type": "code",
   "execution_count": 5,
   "metadata": {},
   "outputs": [
    {
     "data": {
      "text/plain": [
       "41.0"
      ]
     },
     "execution_count": 5,
     "metadata": {},
     "output_type": "execute_result"
    }
   ],
   "source": [
    "convert(5)"
   ]
  },
  {
   "cell_type": "code",
   "execution_count": 6,
   "metadata": {},
   "outputs": [],
   "source": [
    "def inch_to_cent(inches):\n",
    "    cent = inches * 2.54\n",
    "    return cent"
   ]
  },
  {
   "cell_type": "code",
   "execution_count": 8,
   "metadata": {},
   "outputs": [
    {
     "data": {
      "text/plain": [
       "25.4"
      ]
     },
     "execution_count": 8,
     "metadata": {},
     "output_type": "execute_result"
    }
   ],
   "source": [
    "inch_to_cent(10)"
   ]
  },
  {
   "cell_type": "code",
   "execution_count": 9,
   "metadata": {},
   "outputs": [
    {
     "data": {
      "text/plain": [
       "19.05"
      ]
     },
     "execution_count": 9,
     "metadata": {},
     "output_type": "execute_result"
    }
   ],
   "source": [
    "inch_to_cent(7.5)"
   ]
  },
  {
   "cell_type": "code",
   "execution_count": 10,
   "metadata": {},
   "outputs": [],
   "source": [
    "def inch_to_cent(x):\n",
    "    return x * 2.54"
   ]
  },
  {
   "cell_type": "code",
   "execution_count": 11,
   "metadata": {},
   "outputs": [
    {
     "name": "stdout",
     "output_type": "stream",
     "text": [
      "My name is Brian O.\n"
     ]
    }
   ],
   "source": [
    "print('My name is Brian O.')"
   ]
  },
  {
   "cell_type": "code",
   "execution_count": 12,
   "metadata": {},
   "outputs": [
    {
     "name": "stdout",
     "output_type": "stream",
     "text": [
      "To be or not to be.\n",
      "When we are born, we cry,\n",
      "That we are come to this great stage of fools.\n"
     ]
    }
   ],
   "source": [
    "print('To be or not to be.')\n",
    "print('When we are born, we cry,')\n",
    "print('That we are come to this great stage of fools.')"
   ]
  },
  {
   "cell_type": "code",
   "execution_count": 13,
   "metadata": {},
   "outputs": [
    {
     "name": "stdout",
     "output_type": "stream",
     "text": [
      "The value of 5 squared is 25\n"
     ]
    }
   ],
   "source": [
    "x = 5\n",
    "y = 25\n",
    "print('The value of', x, 'squared is', y)"
   ]
  },
  {
   "cell_type": "code",
   "execution_count": 14,
   "metadata": {},
   "outputs": [],
   "source": [
    "def convert(x):\n",
    "    c = x * 2.54\n",
    "    print(x, 'inches equal', c, 'centimeters.')"
   ]
  },
  {
   "cell_type": "code",
   "execution_count": 15,
   "metadata": {},
   "outputs": [
    {
     "name": "stdout",
     "output_type": "stream",
     "text": [
      "5 inches equal 12.7 centimeters.\n"
     ]
    }
   ],
   "source": [
    "convert(5)"
   ]
  },
  {
   "cell_type": "code",
   "execution_count": 16,
   "metadata": {},
   "outputs": [
    {
     "name": "stdout",
     "output_type": "stream",
     "text": [
      "10 inches equal 25.4 centimeters.\n"
     ]
    }
   ],
   "source": [
    "convert(10)"
   ]
  },
  {
   "cell_type": "code",
   "execution_count": 17,
   "metadata": {},
   "outputs": [],
   "source": [
    "def print_age(n):\n",
    "    print('Happy birthday.')\n",
    "    print('I see that you are', n)\n",
    "    print('years old.')"
   ]
  },
  {
   "cell_type": "code",
   "execution_count": 18,
   "metadata": {},
   "outputs": [
    {
     "name": "stdout",
     "output_type": "stream",
     "text": [
      "Happy birthday.\n",
      "I see that you are 29\n",
      "years old.\n"
     ]
    }
   ],
   "source": [
    "print_age(29)"
   ]
  },
  {
   "cell_type": "code",
   "execution_count": 19,
   "metadata": {},
   "outputs": [
    {
     "name": "stdout",
     "output_type": "stream",
     "text": [
      "Happy birthday.\n",
      "I see that you are 45\n",
      "years old.\n"
     ]
    }
   ],
   "source": [
    "print_age(45)"
   ]
  },
  {
   "cell_type": "code",
   "execution_count": 20,
   "metadata": {},
   "outputs": [
    {
     "name": "stdout",
     "output_type": "stream",
     "text": [
      "10 is greater than 5\n"
     ]
    }
   ],
   "source": [
    "i = 10\n",
    "j = 5\n",
    "print(i, 'is greater than', j)"
   ]
  },
  {
   "cell_type": "code",
   "execution_count": 21,
   "metadata": {},
   "outputs": [],
   "source": [
    "def quad(a, b, c):\n",
    "    determ = (b * b - 4 * a * c) ** 0.5\n",
    "    x = (-b + determ) / (2 * a)\n",
    "    return x"
   ]
  },
  {
   "cell_type": "code",
   "execution_count": 22,
   "metadata": {},
   "outputs": [
    {
     "data": {
      "text/plain": [
       "-1.0"
      ]
     },
     "execution_count": 22,
     "metadata": {},
     "output_type": "execute_result"
    }
   ],
   "source": [
    "quad(1, 2, 1)"
   ]
  },
  {
   "cell_type": "code",
   "execution_count": 23,
   "metadata": {},
   "outputs": [
    {
     "data": {
      "text/plain": [
       "1.618033988749895"
      ]
     },
     "execution_count": 23,
     "metadata": {},
     "output_type": "execute_result"
    }
   ],
   "source": [
    "quad(1, -1, -1)"
   ]
  },
  {
   "cell_type": "code",
   "execution_count": 24,
   "metadata": {},
   "outputs": [
    {
     "data": {
      "text/plain": [
       "1.618033988749895"
      ]
     },
     "execution_count": 24,
     "metadata": {},
     "output_type": "execute_result"
    }
   ],
   "source": [
    "phi = quad(1, -1, -1)\n",
    "phi"
   ]
  },
  {
   "cell_type": "code",
   "execution_count": 25,
   "metadata": {},
   "outputs": [
    {
     "data": {
      "text/plain": [
       "1.618033988749895"
      ]
     },
     "execution_count": 25,
     "metadata": {},
     "output_type": "execute_result"
    }
   ],
   "source": [
    "phi * phi - 1"
   ]
  },
  {
   "cell_type": "code",
   "execution_count": 26,
   "metadata": {},
   "outputs": [],
   "source": [
    "# Exercises 3.1.1 and 3.1.2"
   ]
  },
  {
   "cell_type": "code",
   "execution_count": 27,
   "metadata": {},
   "outputs": [],
   "source": [
    "#importing\n",
    "import numpy as np\n",
    "import matplotlib.pyplot as plt\n",
    "import scipy"
   ]
  },
  {
   "cell_type": "code",
   "execution_count": 28,
   "metadata": {},
   "outputs": [
    {
     "data": {
      "text/plain": [
       "-1.0"
      ]
     },
     "execution_count": 28,
     "metadata": {},
     "output_type": "execute_result"
    }
   ],
   "source": [
    "# 3.1.1\n",
    "#Revise the quad function by replacing the name determ with the\n",
    "#name dt and by replacing the name x with the name x1; then verify that the\n",
    "#function still works.\n",
    "\n",
    "def quad(a, b, c):\n",
    "    determ = (b * b - 4 * a * c) ** 0.5\n",
    "    x = (-b - determ) / (2 * a)\n",
    "    return x\n",
    "\n",
    "quad(1, 2, 1)"
   ]
  },
  {
   "cell_type": "code",
   "execution_count": 29,
   "metadata": {},
   "outputs": [
    {
     "data": {
      "text/plain": [
       "-1.0"
      ]
     },
     "execution_count": 29,
     "metadata": {},
     "output_type": "execute_result"
    }
   ],
   "source": [
    "quad(1,0,-1)"
   ]
  },
  {
   "cell_type": "code",
   "execution_count": 30,
   "metadata": {},
   "outputs": [
    {
     "name": "stdout",
     "output_type": "stream",
     "text": [
      "The x1 value is… 1.0\n",
      "The x2 value is… -1.0\n"
     ]
    }
   ],
   "source": [
    "# 3.1.2\n",
    "#Revise the quad function so that instead of returning a value, it\n",
    "#prints two values using the Python print statement in a user-friendly manner:\n",
    "#“The x1 value is…” and “The x2 value is…” (Hint: The use of the plus/minus\n",
    "#sign in the quadratic formula indicates what these two—not one—values\n",
    "#should be. Review this formula closely if you need to do so.) Print each answer\n",
    "#out on a separate line.\n",
    "\n",
    "def quad(a, b, c):\n",
    "    determ = (b * b - 4 * a * c) ** 0.5\n",
    "    x = (-b + determ) / (2 * a)\n",
    "    y = (-b - determ) / (2 * a)\n",
    "    print('The x1 value is…',x)\n",
    "    print('The x2 value is…',y)\n",
    "\n",
    "quad(1,0,-1)"
   ]
  },
  {
   "cell_type": "code",
   "execution_count": 31,
   "metadata": {},
   "outputs": [
    {
     "name": "stdin",
     "output_type": "stream",
     "text": [
      "Enter your name:  Brian\n",
      "Enter another:  Hillary\n",
      "And another:  Donald\n"
     ]
    },
    {
     "name": "stdout",
     "output_type": "stream",
     "text": [
      "Here are all the candidates: \n",
      "Brian Hillary Donald\n"
     ]
    }
   ],
   "source": [
    "# \"Python with no fear\" - Pages 41 - 50\n",
    "\n",
    "def main():\n",
    "    name1_str = input('Enter your name: ')\n",
    "    name2_str = input('Enter another: ')\n",
    "    name3_str = input('And another: ')\n",
    "    print('Here are all the candidates: ')\n",
    "    print(name1_str, name2_str, name3_str)\n",
    "\n",
    "main()"
   ]
  },
  {
   "cell_type": "code",
   "execution_count": 32,
   "metadata": {},
   "outputs": [
    {
     "name": "stdin",
     "output_type": "stream",
     "text": [
      "Enter input line:  When I'm 64...\n"
     ]
    },
    {
     "data": {
      "text/plain": [
       "\"When I'm 64...\""
      ]
     },
     "execution_count": 32,
     "metadata": {},
     "output_type": "execute_result"
    }
   ],
   "source": [
    "in_str = input('Enter input line: ')\n",
    "\n",
    "in_str"
   ]
  },
  {
   "cell_type": "code",
   "execution_count": 34,
   "metadata": {},
   "outputs": [
    {
     "name": "stdin",
     "output_type": "stream",
     "text": [
      "Enter your age:  29\n"
     ]
    },
    {
     "ename": "TypeError",
     "evalue": "must be str, not int",
     "output_type": "error",
     "traceback": [
      "\u001b[0;31m---------------------------------------------------------------------------\u001b[0m",
      "\u001b[0;31mTypeError\u001b[0m                                 Traceback (most recent call last)",
      "\u001b[0;32m<ipython-input-34-7c5d38642f31>\u001b[0m in \u001b[0;36m<module>\u001b[0;34m\u001b[0m\n\u001b[1;32m      3\u001b[0m     \u001b[0mprint\u001b[0m \u001b[0;34m(\u001b[0m\u001b[0;34m'Next year you will be'\u001b[0m\u001b[0;34m,\u001b[0m \u001b[0min_str\u001b[0m \u001b[0;34m+\u001b[0m \u001b[0;36m1\u001b[0m\u001b[0;34m)\u001b[0m\u001b[0;34m\u001b[0m\u001b[0;34m\u001b[0m\u001b[0m\n\u001b[1;32m      4\u001b[0m \u001b[0;34m\u001b[0m\u001b[0m\n\u001b[0;32m----> 5\u001b[0;31m \u001b[0mmain\u001b[0m\u001b[0;34m(\u001b[0m\u001b[0;34m)\u001b[0m\u001b[0;34m\u001b[0m\u001b[0;34m\u001b[0m\u001b[0m\n\u001b[0m",
      "\u001b[0;32m<ipython-input-34-7c5d38642f31>\u001b[0m in \u001b[0;36mmain\u001b[0;34m()\u001b[0m\n\u001b[1;32m      1\u001b[0m \u001b[0;32mdef\u001b[0m \u001b[0mmain\u001b[0m\u001b[0;34m(\u001b[0m\u001b[0;34m)\u001b[0m\u001b[0;34m:\u001b[0m\u001b[0;34m\u001b[0m\u001b[0;34m\u001b[0m\u001b[0m\n\u001b[1;32m      2\u001b[0m     \u001b[0min_str\u001b[0m \u001b[0;34m=\u001b[0m \u001b[0minput\u001b[0m\u001b[0;34m(\u001b[0m\u001b[0;34m'Enter your age: '\u001b[0m\u001b[0;34m)\u001b[0m\u001b[0;34m\u001b[0m\u001b[0;34m\u001b[0m\u001b[0m\n\u001b[0;32m----> 3\u001b[0;31m     \u001b[0mprint\u001b[0m \u001b[0;34m(\u001b[0m\u001b[0;34m'Next year you will be'\u001b[0m\u001b[0;34m,\u001b[0m \u001b[0min_str\u001b[0m \u001b[0;34m+\u001b[0m \u001b[0;36m1\u001b[0m\u001b[0;34m)\u001b[0m\u001b[0;34m\u001b[0m\u001b[0;34m\u001b[0m\u001b[0m\n\u001b[0m\u001b[1;32m      4\u001b[0m \u001b[0;34m\u001b[0m\u001b[0m\n\u001b[1;32m      5\u001b[0m \u001b[0mmain\u001b[0m\u001b[0;34m(\u001b[0m\u001b[0;34m)\u001b[0m\u001b[0;34m\u001b[0m\u001b[0;34m\u001b[0m\u001b[0m\n",
      "\u001b[0;31mTypeError\u001b[0m: must be str, not int"
     ]
    }
   ],
   "source": [
    "def main():\n",
    "    in_str = input('Enter your age: ')\n",
    "    print ('Next year you will be', in_str + 1)\n",
    "\n",
    "main()"
   ]
  },
  {
   "cell_type": "code",
   "execution_count": null,
   "metadata": {},
   "outputs": [],
   "source": [
    "in_str = input('Enter a number: ')\n",
    "n = int(in_str)"
   ]
  },
  {
   "cell_type": "code",
   "execution_count": null,
   "metadata": {},
   "outputs": [],
   "source": [
    "n = int(input('Enter a number: '))"
   ]
  },
  {
   "cell_type": "code",
   "execution_count": 35,
   "metadata": {},
   "outputs": [
    {
     "name": "stdin",
     "output_type": "stream",
     "text": [
      "Enter a number:  10\n"
     ]
    },
    {
     "name": "stdout",
     "output_type": "stream",
     "text": [
      "Twice of that is: 20\n"
     ]
    }
   ],
   "source": [
    "def main():\n",
    "    n = int(input('Enter a number: '))\n",
    "    print('Twice of that is:', n * 2)\n",
    "main()"
   ]
  },
  {
   "cell_type": "code",
   "execution_count": 36,
   "metadata": {},
   "outputs": [
    {
     "name": "stdin",
     "output_type": "stream",
     "text": [
      "Enter value for a:  1\n",
      "Enter value for b:  -1\n",
      "Enter value for c:  -1\n"
     ]
    },
    {
     "name": "stdout",
     "output_type": "stream",
     "text": [
      "Answers are 1.618033988749895 and -0.6180339887498949\n"
     ]
    }
   ],
   "source": [
    "def main():\n",
    "    a = float(input('Enter value for a: '))\n",
    "    b = float(input('Enter value for b: '))\n",
    "    c = float(input('Enter value for c: '))\n",
    "    determ = (b * b - 4 * a * c) ** 0.5\n",
    "    x1 = (-b + determ) / (2 * a)\n",
    "    x2 = (-b - determ) / (2 * a)\n",
    "    print('Answers are', x1, 'and', x2)\n",
    "    \n",
    "main()"
   ]
  },
  {
   "cell_type": "code",
   "execution_count": 37,
   "metadata": {},
   "outputs": [
    {
     "ename": "NameError",
     "evalue": "name 'x1' is not defined",
     "output_type": "error",
     "traceback": [
      "\u001b[0;31m---------------------------------------------------------------------------\u001b[0m",
      "\u001b[0;31mNameError\u001b[0m                                 Traceback (most recent call last)",
      "\u001b[0;32m<ipython-input-37-4a5ed088f74f>\u001b[0m in \u001b[0;36m<module>\u001b[0;34m\u001b[0m\n\u001b[0;32m----> 1\u001b[0;31m \u001b[0mprint\u001b[0m\u001b[0;34m(\u001b[0m\u001b[0;34m'The answers are '\u001b[0m\u001b[0;34m,\u001b[0m \u001b[0mx1\u001b[0m\u001b[0;34m,\u001b[0m \u001b[0;34m' and '\u001b[0m\u001b[0;34m,\u001b[0m \u001b[0mx2\u001b[0m\u001b[0;34m,\u001b[0m \u001b[0;34m'.'\u001b[0m\u001b[0;34m,\u001b[0m \u001b[0msep\u001b[0m\u001b[0;34m=\u001b[0m\u001b[0;34m''\u001b[0m\u001b[0;34m)\u001b[0m\u001b[0;34m\u001b[0m\u001b[0;34m\u001b[0m\u001b[0m\n\u001b[0m",
      "\u001b[0;31mNameError\u001b[0m: name 'x1' is not defined"
     ]
    }
   ],
   "source": [
    "print('The answers are ', x1, ' and ', x2, '.', sep='')"
   ]
  },
  {
   "cell_type": "code",
   "execution_count": 39,
   "metadata": {},
   "outputs": [
    {
     "name": "stdout",
     "output_type": "stream",
     "text": [
      "The numbers are 10 and 20.\n"
     ]
    }
   ],
   "source": [
    "fss = 'The numbers are {} and {}.'\n",
    "output_str = fss.format(10, 20)\n",
    "print(output_str)"
   ]
  },
  {
   "cell_type": "code",
   "execution_count": 41,
   "metadata": {},
   "outputs": [
    {
     "name": "stdin",
     "output_type": "stream",
     "text": [
      "Enter x1:  0\n",
      "Enter y1:  0\n",
      "Enter x2:  3\n",
      "Enter y2:  4\n"
     ]
    },
    {
     "name": "stdout",
     "output_type": "stream",
     "text": [
      "The distance is  5.0\n"
     ]
    }
   ],
   "source": [
    "# No Fear Exercises 3.3.1, 3.3.2, 3.3.3 and 3.3.4\n",
    "\n",
    "#3.3.1\n",
    "\n",
    "#Revise Example 3.3 so that it uses this\n",
    "#other means of calculating a square. Also, replace h_dist, v_dist, and dist\n",
    "#in the program with h, v, and d. Then rerun and make sure everything works.\n",
    "#For example, if you input the points 0, 0 and 3, 4, the program should say that\n",
    "#the distance between the points is 5.0.\n",
    "\n",
    "def distance():\n",
    "    x1 = float(input('Enter x1: '))\n",
    "    y1 = float(input('Enter y1: '))\n",
    "    x2 = float(input('Enter x2: '))\n",
    "    y2 = float(input('Enter y2: '))\n",
    "    h = x2 - x1\n",
    "    v = y2 - y1\n",
    "    d = (h * h + v * v) ** 0.5\n",
    "    print('The distance is ', d)\n",
    "\n",
    "distance()"
   ]
  },
  {
   "cell_type": "code",
   "execution_count": 42,
   "metadata": {},
   "outputs": [
    {
     "name": "stdin",
     "output_type": "stream",
     "text": [
      "Enter x1:  0\n",
      "Enter y1:  0\n",
      "Enter x2:  3\n",
      "Enter y2:  4\n"
     ]
    },
    {
     "name": "stdout",
     "output_type": "stream",
     "text": [
      "The distance is 5.0.\n"
     ]
    }
   ],
   "source": [
    "#3.3.2\n",
    "\n",
    "#Revise Example 3.3 so that it outputs the result and puts a period (.) at\n",
    "#the end of the sentence, without any superfluous blank spaces. Use the format specification-\n",
    "#string technique I outlined in the previous section.\n",
    "\n",
    "def distance():\n",
    "    x1 = float(input('Enter x1: '))\n",
    "    y1 = float(input('Enter y1: '))\n",
    "    x2 = float(input('Enter x2: '))\n",
    "    y2 = float(input('Enter y2: '))\n",
    "    h = x2 - x1\n",
    "    v = y2 - y1\n",
    "    d = (h * h + v * v) ** 0.5\n",
    "    print('The distance is ', d, '.', sep='')\n",
    "\n",
    "distance()"
   ]
  },
  {
   "cell_type": "code",
   "execution_count": 44,
   "metadata": {},
   "outputs": [
    {
     "name": "stdin",
     "output_type": "stream",
     "text": [
      "Triangle height:  4\n",
      "Triangle width:  4\n"
     ]
    },
    {
     "name": "stdout",
     "output_type": "stream",
     "text": [
      "The area is 8.0.\n"
     ]
    }
   ],
   "source": [
    "#3.3.3\n",
    "\n",
    "#Write a program that calculates the area of a triangle after prompting\n",
    "#for the values of the triangle’s height and width. Use the formula height *\n",
    "#width * 0.5. Use the format-specification-string technique to print a period at\n",
    "#the end of the output.\n",
    "\n",
    "def tarea():\n",
    "    h = float(input('Triangle height: '))\n",
    "    w = float(input('Triangle width: '))\n",
    "    A = h * w / 2\n",
    "    print('The area is ', A, '.', sep='')\n",
    "\n",
    "tarea()"
   ]
  },
  {
   "cell_type": "code",
   "execution_count": 45,
   "metadata": {},
   "outputs": [],
   "source": [
    "#3.3.4\n",
    "\n",
    "#Write a program that calculates the area of a circle after prompting\n",
    "#for the value of the radius. (I’ll leave it to you to look up the formula for\n",
    "#area of a circle if you don’t remember it.) Use the format-specification-string\n",
    "#technique to print a period at the end of the output. Also, to get the value of pi,\n",
    "#place the following statement at the beginning of your program:"
   ]
  },
  {
   "cell_type": "code",
   "execution_count": 47,
   "metadata": {},
   "outputs": [
    {
     "name": "stdin",
     "output_type": "stream",
     "text": [
      "Circle radius:  1\n"
     ]
    },
    {
     "name": "stdout",
     "output_type": "stream",
     "text": [
      "The area is 3.141592653589793.\n"
     ]
    }
   ],
   "source": [
    "from math import pi\n",
    "\n",
    "def carea():\n",
    "    r = float(input('Circle radius: '))\n",
    "    A = pi*r*r\n",
    "    print('The area is ', A, '.', sep='')\n",
    "\n",
    "carea()"
   ]
  },
  {
   "cell_type": "code",
   "execution_count": 48,
   "metadata": {},
   "outputs": [],
   "source": [
    "# Scipy reading"
   ]
  },
  {
   "cell_type": "markdown",
   "metadata": {},
   "source": [
    "Glossary\n",
    "\n",
    "Fourier transform - a function derived from a given function and representing it by a series of sinusoidal functions.\n",
    "\n",
    "Discrete Fourier Transforms - transforms any signal from its time/space domain into a related signal in frequency domain.\n",
    "\n",
    "operator - a mapping that acts on elements of a space to produce other elements of the same space.\n",
    "\n",
    "Hilbert transform - a specific linear operator that takes a function, u(t) of a real variable and produces another function of a real variable H(u)(t).\n",
    "\n",
    "Discrete Cosine Transform - expresses a finite sequence of data points in terms of a sum of cosine functions oscillating at different frequencies."
   ]
  },
  {
   "cell_type": "code",
   "execution_count": 51,
   "metadata": {},
   "outputs": [
    {
     "name": "stderr",
     "output_type": "stream",
     "text": [
      "/srv/conda/lib/python3.6/site-packages/scipy/fftpack/basic.py:160: FutureWarning: Using a non-tuple sequence for multidimensional indexing is deprecated; use `arr[tuple(seq)]` instead of `arr[seq]`. In the future this will be interpreted as an array index, `arr[np.array(seq)]`, which will result either in an error or a different result.\n",
      "  z[index] = x\n"
     ]
    },
    {
     "data": {
      "text/plain": [
       "<matplotlib.colorbar.Colorbar at 0x7f5c7e9c8198>"
      ]
     },
     "execution_count": 51,
     "metadata": {},
     "output_type": "execute_result"
    },
    {
     "data": {
      "image/png": "[encoded data removed]",
      "text/plain": [
       "<matplotlib.figure.Figure at 0x7f5c8cef74e0>"
      ]
     },
     "metadata": {},
     "output_type": "display_data"
    }
   ],
   "source": [
    "from scipy.fftpack import fft,fft2, fftshift\n",
    "import matplotlib.pyplot as plt\n",
    "B=np.ones((4,4)); W=np.zeros((4,4))\n",
    "signal = np.bmat(\"B,W;W,B\")\n",
    "onedimfft = fft(signal,n=16)\n",
    "twodimfft = fft2(signal,shape=(16,16))\n",
    "plt.figure()\n",
    "plt.gray()\n",
    "plt.subplot(121,aspect='equal')\n",
    "plt.pcolormesh(onedimfft.real)\n",
    "plt.colorbar(orientation='horizontal')\n",
    "plt.subplot(122,aspect='equal')\n",
    "plt.pcolormesh(fftshift(twodimfft.real))\n",
    "plt.colorbar(orientation='horizontal')"
   ]
  },
  {
   "cell_type": "code",
   "execution_count": 54,
   "metadata": {},
   "outputs": [
    {
     "data": {
      "text/plain": [
       "[<matplotlib.lines.Line2D at 0x7f5c6dc359e8>]"
      ]
     },
     "execution_count": 54,
     "metadata": {},
     "output_type": "execute_result"
    },
    {
     "data": {
      "image/png": "[encoded data removed]",
      "text/plain": [
       "<matplotlib.figure.Figure at 0x7f5c6e2ddbe0>"
      ]
     },
     "metadata": {},
     "output_type": "display_data"
    }
   ],
   "source": [
    "from scipy.signal import chirp, sawtooth, square, gausspulse\n",
    "import matplotlib.pyplot as plt\n",
    "t=np.linspace(-1,1,1000)\n",
    "plt.subplot(221); plt.ylim([-2,2])\n",
    "plt.plot(t,chirp(t,f0=100,t1=0.5,f1=200)) # plot a chirp\n",
    "plt.subplot(222); plt.ylim([-2,2])\n",
    "plt.plot(t,gausspulse(t,fc=10,bw=0.5)) # Gauss pulse\n",
    "plt.subplot(223); plt.ylim([-2,2])\n",
    "t*=3*np.pi\n",
    "plt.plot(t,sawtooth(t)) # sawtooth\n",
    "plt.subplot(224); plt.ylim([-2,2])\n",
    "plt.plot(t,square(t))"
   ]
  },
  {
   "cell_type": "markdown",
   "metadata": {},
   "source": [
    "Fourier transform references:\n",
    "\n",
    "https://betterexplained.com/articles/an-interactive-guide-to-the-fourier-transform/\n",
    "\n",
    "The fouriear transform is a bunch of filters that are used to seperate all the components of an incoming signal.\n",
    "\n",
    "http://mathworld.wolfram.com/FourierTransform.html\n",
    "\n",
    "The Fourier transform is a generalization of the complex Fourier series in the limit as L->infty. Replace the discrete A_n with the continuous F(k)dk while letting  n/L->k. Then change the sum to an integral, and the equations become\n",
    "\n",
    "f(x)\t=\tint_(-infty)^inftyF(k)e^(2piikx)dk\n",
    "\n",
    "F(k)\t=\tint_(-infty)^inftyf(x)e^(-2piikx)dx\n",
    "\n",
    "http://www.thefouriertransform.com/\n",
    "\n",
    "The Fourier Transform is a tool that breaks a waveform (a function or signal) into an alternate representation, characterized by sine and cosines. The Fourier Transform shows that any waveform can be re-written as the sum of sinusoidal functions."
   ]
  },
  {
   "cell_type": "code",
   "execution_count": null,
   "metadata": {},
   "outputs": [],
   "source": []
  },
  {
   "cell_type": "markdown",
   "metadata": {},
   "source": [
    "Looking up power spectral density\n",
    "\n",
    "The power spectral density of a signal refers to the spectral energy distribution that would be found per unit time."
   ]
  }
 ],
 "metadata": {
  "kernelspec": {
   "display_name": "Python 3",
   "language": "python",
   "name": "python3"
  },
  "language_info": {
   "codemirror_mode": {
    "name": "ipython",
    "version": 3
   },
   "file_extension": ".py",
   "mimetype": "text/x-python",
   "name": "python",
   "nbconvert_exporter": "python",
   "pygments_lexer": "ipython3",
   "version": "3.6.7"
  }
 },
 "nbformat": 4,
 "nbformat_minor": 2
}
